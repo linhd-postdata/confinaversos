{
  "nbformat": 4,
  "nbformat_minor": 5,
  "metadata": {
    "kernelspec": {
      "display_name": "Python 3",
      "language": "python",
      "name": "python3"
    },
    "language_info": {
      "codemirror_mode": {
        "name": "ipython",
        "version": 3
      },
      "file_extension": ".py",
      "mimetype": "text/x-python",
      "name": "python",
      "nbconvert_exporter": "python",
      "pygments_lexer": "ipython3",
      "version": "3.8.10"
    },
    "colab": {
      "name": "freq_calc.ipynb",
      "provenance": [],
      "collapsed_sections": []
    }
  },
  "cells": [
    {
      "cell_type": "code",
      "metadata": {
        "id": "e6efaebc"
      },
      "source": [
        "from collections import Counter\n",
        "import pandas as pd\n",
        "import re\n",
        "import stopwordsiso\n",
        "import glob\n",
        "import numpy as np\n",
        "\n",
        "from PIL import Image\n",
        "from matplotlib.colors import LinearSegmentedColormap\n",
        "from sklearn.feature_extraction.text import TfidfTransformer,TfidfVectorizer,CountVectorizer\n",
        "from nltk.corpus import stopwords\n",
        "from wordcloud import WordCloud\n",
        "import nltk\n",
        "import matplotlib.pyplot as plt"
      ],
      "id": "e6efaebc",
      "execution_count": null,
      "outputs": []
    },
    {
      "cell_type": "code",
      "metadata": {
        "id": "a2167e26"
      },
      "source": [
        "sp_stopwords = stopwordsiso.stopwords('es')"
      ],
      "id": "a2167e26",
      "execution_count": null,
      "outputs": []
    },
    {
      "cell_type": "code",
      "metadata": {
        "id": "8496be60"
      },
      "source": [
        "sp_stopwords.update({\"pa\", \"na\", \"ah\", \"yeah\", \"uh\", \"yeh\"})"
      ],
      "id": "8496be60",
      "execution_count": null,
      "outputs": []
    },
    {
      "cell_type": "code",
      "metadata": {
        "id": "0790c92d",
        "outputId": "b5366d6e-be3c-48bd-faa9-bd762d95efbe"
      },
      "source": [
        "len(sp_stopwords)"
      ],
      "id": "0790c92d",
      "execution_count": null,
      "outputs": [
        {
          "data": {
            "text/plain": [
              "738"
            ]
          },
          "execution_count": 4,
          "metadata": {},
          "output_type": "execute_result"
        }
      ]
    },
    {
      "cell_type": "markdown",
      "metadata": {
        "id": "76678d37"
      },
      "source": [
        "## Choose corpus: \"21Century\" or \"coronaversos\""
      ],
      "id": "76678d37"
    },
    {
      "cell_type": "code",
      "metadata": {
        "id": "ac77c11a"
      },
      "source": [
        "# CORPUS_PATH = \"coronaversos\"\n",
        "CORPUS_PATH = \"21Century\""
      ],
      "id": "ac77c11a",
      "execution_count": null,
      "outputs": []
    },
    {
      "cell_type": "markdown",
      "metadata": {
        "id": "68c9a6e8"
      },
      "source": [
        "## Create TF-IDF vectorizer"
      ],
      "id": "68c9a6e8"
    },
    {
      "cell_type": "code",
      "metadata": {
        "id": "e0437cc7"
      },
      "source": [
        "tfIdfVectorizer = TfidfVectorizer(use_idf=True, stop_words=sp_stopwords)"
      ],
      "id": "e0437cc7",
      "execution_count": null,
      "outputs": []
    },
    {
      "cell_type": "markdown",
      "metadata": {
        "id": "aa8cd446"
      },
      "source": [
        "## Get the top n most frequent terms"
      ],
      "id": "aa8cd446"
    },
    {
      "cell_type": "code",
      "metadata": {
        "id": "eba534b4"
      },
      "source": [
        "def get_top_n_words(corpus, n=None):\n",
        "    \"\"\"\n",
        "    List the top n words in a vocabulary according to occurrence in a text corpus.\n",
        "    \"\"\"\n",
        "    vec = CountVectorizer(stop_words=sp_stopwords).fit(corpus)\n",
        "    bag_of_words = vec.transform(corpus)\n",
        "    sum_words = bag_of_words.sum(axis=0) \n",
        "    words_freq = [(word, sum_words[0, idx]) for word, idx in vec.vocabulary_.items()]\n",
        "    words_freq = sorted(words_freq, key = lambda x: x[1], reverse=True)\n",
        "    return dict(words_freq[:n])"
      ],
      "id": "eba534b4",
      "execution_count": null,
      "outputs": []
    },
    {
      "cell_type": "markdown",
      "metadata": {
        "id": "ea0ee837"
      },
      "source": [
        "# Load corpus"
      ],
      "id": "ea0ee837"
    },
    {
      "cell_type": "code",
      "metadata": {
        "id": "5d8c29b4"
      },
      "source": [
        "df = pd.read_csv(f\"{CORPUS_PATH}.csv\", sep=\"\\t\")"
      ],
      "id": "5d8c29b4",
      "execution_count": null,
      "outputs": []
    },
    {
      "cell_type": "markdown",
      "metadata": {
        "id": "7489a326"
      },
      "source": [
        "### Set all text to lowercase"
      ],
      "id": "7489a326"
    },
    {
      "cell_type": "code",
      "metadata": {
        "id": "67714cc5"
      },
      "source": [
        "df.text = df.text.apply(lambda x: x.lower())\n",
        "df.lemmatized_text = df.lemmatized_text.apply(lambda x: x.lower())"
      ],
      "id": "67714cc5",
      "execution_count": null,
      "outputs": []
    },
    {
      "cell_type": "markdown",
      "metadata": {
        "id": "d8ac387b"
      },
      "source": [
        "# Lemmas"
      ],
      "id": "d8ac387b"
    },
    {
      "cell_type": "code",
      "metadata": {
        "id": "ca68f9bb",
        "outputId": "2c02ff06-53aa-4725-b602-1f5ce6104f30"
      },
      "source": [
        "df.head(5)"
      ],
      "id": "ca68f9bb",
      "execution_count": null,
      "outputs": [
        {
          "data": {
            "text/html": [
              "<div>\n",
              "<style scoped>\n",
              "    .dataframe tbody tr th:only-of-type {\n",
              "        vertical-align: middle;\n",
              "    }\n",
              "\n",
              "    .dataframe tbody tr th {\n",
              "        vertical-align: top;\n",
              "    }\n",
              "\n",
              "    .dataframe thead th {\n",
              "        text-align: right;\n",
              "    }\n",
              "</style>\n",
              "<table border=\"1\" class=\"dataframe\">\n",
              "  <thead>\n",
              "    <tr style=\"text-align: right;\">\n",
              "      <th></th>\n",
              "      <th>poem</th>\n",
              "      <th>text</th>\n",
              "      <th>lemmatized_text</th>\n",
              "    </tr>\n",
              "  </thead>\n",
              "  <tbody>\n",
              "    <tr>\n",
              "      <th>0</th>\n",
              "      <td>Segarra,Iván:Idilio_Sideral.txt</td>\n",
              "      <td>como misterios ensortijados de vida,\\nun eco q...</td>\n",
              "      <td>como misterio ensortijado de vida , \\n uno eco...</td>\n",
              "    </tr>\n",
              "    <tr>\n",
              "      <th>1</th>\n",
              "      <td>Gil_Segura,F._Javier:Si_Te_Echo_De_Menos.txt</td>\n",
              "      <td>sabes a metal\\ncuando no soy lo primero.\\nme s...</td>\n",
              "      <td>saber a metal \\n cuando no ser él primero . \\n...</td>\n",
              "    </tr>\n",
              "    <tr>\n",
              "      <th>2</th>\n",
              "      <td>Sierra,Iván_Francisco:De_Ida_Y_Vuelta.txt</td>\n",
              "      <td>ayer,\\nmientras réplicas baratas nos aventábam...</td>\n",
              "      <td>ayer , \\n mientras réplica barato yo aventár a...</td>\n",
              "    </tr>\n",
              "    <tr>\n",
              "      <th>3</th>\n",
              "      <td>Gregori,Diego_Alberto_De:Sin_Poder_Dormir.txt</td>\n",
              "      <td>el hombre es mito,\\nreligión y tormento.\\ntus ...</td>\n",
              "      <td>el hombre ser mito , \\n religión y tormento . ...</td>\n",
              "    </tr>\n",
              "    <tr>\n",
              "      <th>4</th>\n",
              "      <td>Corredor_Cuervo,Héctor_José:¡Oh!_Patria_Bella_...</td>\n",
              "      <td>¡oh! patria bella de luto revestida\\nbajo somb...</td>\n",
              "      <td>¡ oh ! patria bello de luto revestido \\n bajo ...</td>\n",
              "    </tr>\n",
              "  </tbody>\n",
              "</table>\n",
              "</div>"
            ],
            "text/plain": [
              "                                                poem  \\\n",
              "0                    Segarra,Iván:Idilio_Sideral.txt   \n",
              "1       Gil_Segura,F._Javier:Si_Te_Echo_De_Menos.txt   \n",
              "2          Sierra,Iván_Francisco:De_Ida_Y_Vuelta.txt   \n",
              "3      Gregori,Diego_Alberto_De:Sin_Poder_Dormir.txt   \n",
              "4  Corredor_Cuervo,Héctor_José:¡Oh!_Patria_Bella_...   \n",
              "\n",
              "                                                text  \\\n",
              "0  como misterios ensortijados de vida,\\nun eco q...   \n",
              "1  sabes a metal\\ncuando no soy lo primero.\\nme s...   \n",
              "2  ayer,\\nmientras réplicas baratas nos aventábam...   \n",
              "3  el hombre es mito,\\nreligión y tormento.\\ntus ...   \n",
              "4  ¡oh! patria bella de luto revestida\\nbajo somb...   \n",
              "\n",
              "                                     lemmatized_text  \n",
              "0  como misterio ensortijado de vida , \\n uno eco...  \n",
              "1  saber a metal \\n cuando no ser él primero . \\n...  \n",
              "2  ayer , \\n mientras réplica barato yo aventár a...  \n",
              "3  el hombre ser mito , \\n religión y tormento . ...  \n",
              "4  ¡ oh ! patria bello de luto revestido \\n bajo ...  "
            ]
          },
          "execution_count": 10,
          "metadata": {},
          "output_type": "execute_result"
        }
      ]
    },
    {
      "cell_type": "markdown",
      "metadata": {
        "id": "7a393bd0"
      },
      "source": [
        "#### Most frequent words"
      ],
      "id": "7a393bd0"
    },
    {
      "cell_type": "code",
      "metadata": {
        "id": "9b92dcc4"
      },
      "source": [
        "most_common_dict = get_top_n_words(df[\"lemmatized_text\"], 10)"
      ],
      "id": "9b92dcc4",
      "execution_count": null,
      "outputs": []
    },
    {
      "cell_type": "code",
      "metadata": {
        "id": "73927df5"
      },
      "source": [
        "most_common = list(most_common_dict.keys())"
      ],
      "id": "73927df5",
      "execution_count": null,
      "outputs": []
    },
    {
      "cell_type": "code",
      "metadata": {
        "id": "11619933",
        "outputId": "0a3290e2-7693-4f82-fecd-af5e294f82ab"
      },
      "source": [
        "most_common"
      ],
      "id": "11619933",
      "execution_count": null,
      "outputs": [
        {
          "data": {
            "text/plain": [
              "['amor',\n",
              " 'vida',\n",
              " 'querer',\n",
              " 'noche',\n",
              " 'alma',\n",
              " 'dejar',\n",
              " 'ojo',\n",
              " 'mano',\n",
              " 'luz',\n",
              " 'corazón']"
            ]
          },
          "execution_count": 13,
          "metadata": {},
          "output_type": "execute_result"
        }
      ]
    },
    {
      "cell_type": "code",
      "metadata": {
        "id": "058f909a"
      },
      "source": [
        "test_df = df[\"lemmatized_text\"]"
      ],
      "id": "058f909a",
      "execution_count": null,
      "outputs": []
    },
    {
      "cell_type": "markdown",
      "metadata": {
        "id": "0c9d6101"
      },
      "source": [
        "## Calculate occurrences per document"
      ],
      "id": "0c9d6101"
    },
    {
      "cell_type": "markdown",
      "metadata": {
        "id": "8af003b3"
      },
      "source": [
        "### Occurrences of the most frequent words"
      ],
      "id": "8af003b3"
    },
    {
      "cell_type": "code",
      "metadata": {
        "id": "ab0cae50"
      },
      "source": [
        "occurrences_df = pd.DataFrame(columns=most_common)"
      ],
      "id": "ab0cae50",
      "execution_count": null,
      "outputs": []
    },
    {
      "cell_type": "code",
      "metadata": {
        "id": "a0d2f111"
      },
      "source": [
        "for idx, row in df.iterrows():\n",
        "    occ_list = []\n",
        "    for word in most_common:\n",
        "        if re.search(fr\"(?<!\\S){word}(?!\\S)\", row[\"lemmatized_text\"]):\n",
        "            occ_list.append(1)\n",
        "        else:\n",
        "            occ_list.append(0)\n",
        "    occurrences_df.loc[idx] = occ_list"
      ],
      "id": "a0d2f111",
      "execution_count": null,
      "outputs": []
    },
    {
      "cell_type": "code",
      "metadata": {
        "id": "4ff5340e"
      },
      "source": [
        "occurrences_df"
      ],
      "id": "4ff5340e",
      "execution_count": null,
      "outputs": []
    },
    {
      "cell_type": "code",
      "metadata": {
        "id": "fee1e9cb"
      },
      "source": [
        "occurrences_df.sum()"
      ],
      "id": "fee1e9cb",
      "execution_count": null,
      "outputs": []
    },
    {
      "cell_type": "code",
      "metadata": {
        "id": "4a6cf423"
      },
      "source": [
        "most_common_dict"
      ],
      "id": "4a6cf423",
      "execution_count": null,
      "outputs": []
    },
    {
      "cell_type": "markdown",
      "metadata": {
        "id": "27413594"
      },
      "source": [
        "## Word frequency"
      ],
      "id": "27413594"
    },
    {
      "cell_type": "code",
      "metadata": {
        "id": "1981dcf5"
      },
      "source": [
        "occ_percentage = occurrences_df[occurrences_df > 0.0].count()*100/len(occurrences_df)"
      ],
      "id": "1981dcf5",
      "execution_count": null,
      "outputs": []
    },
    {
      "cell_type": "code",
      "metadata": {
        "id": "b5513ada"
      },
      "source": [
        "occ_document_freq = occurrences_df[occurrences_df > 0.0].count()"
      ],
      "id": "b5513ada",
      "execution_count": null,
      "outputs": []
    },
    {
      "cell_type": "code",
      "metadata": {
        "id": "d14cadba"
      },
      "source": [
        "occ_freq = most_common_dict.values()"
      ],
      "id": "d14cadba",
      "execution_count": null,
      "outputs": []
    },
    {
      "cell_type": "code",
      "metadata": {
        "id": "355017ff"
      },
      "source": [
        "occurrences_df.sum()"
      ],
      "id": "355017ff",
      "execution_count": null,
      "outputs": []
    },
    {
      "cell_type": "code",
      "metadata": {
        "id": "6254b651"
      },
      "source": [
        "stats_occ_df = pd.DataFrame(columns=[\"Lemma\", \"Frequency\", \"Document frequency\", \"Relative document frequency\"])"
      ],
      "id": "6254b651",
      "execution_count": null,
      "outputs": []
    },
    {
      "cell_type": "code",
      "metadata": {
        "id": "bfdbcb1f"
      },
      "source": [
        "stats_occ_df.Lemma = occ_document_freq.keys()\n",
        "stats_occ_df.Frequency = occ_freq\n",
        "stats_occ_df[\"Document frequency\"] = occ_document_freq.values\n",
        "stats_occ_df[\"Relative document frequency\"] = occ_percentage.values"
      ],
      "id": "bfdbcb1f",
      "execution_count": null,
      "outputs": []
    },
    {
      "cell_type": "code",
      "metadata": {
        "id": "9bc650b6"
      },
      "source": [
        "stats_occ_df"
      ],
      "id": "9bc650b6",
      "execution_count": null,
      "outputs": []
    },
    {
      "cell_type": "markdown",
      "metadata": {
        "id": "3ea04332"
      },
      "source": [
        "## Word cloud"
      ],
      "id": "3ea04332"
    },
    {
      "cell_type": "code",
      "metadata": {
        "id": "9040c3f1"
      },
      "source": [
        "all_text = \"\"\n",
        "for i in df.lemmatized_text: \n",
        "    i = str(i) \n",
        "    separate = i.split() \n",
        "    for j in range(len(separate)): \n",
        "        separate[j] = separate[j].lower() \n",
        "      \n",
        "    all_text += \" \".join(separate)+\" \""
      ],
      "id": "9040c3f1",
      "execution_count": null,
      "outputs": []
    },
    {
      "cell_type": "code",
      "metadata": {
        "id": "71322504"
      },
      "source": [
        "top200 = get_top_n_words(df[\"lemmatized_text\"], 200)"
      ],
      "id": "71322504",
      "execution_count": null,
      "outputs": []
    },
    {
      "cell_type": "code",
      "metadata": {
        "id": "c4fcf027"
      },
      "source": [
        "for key, value in top200.items():\n",
        "    print(f\"{key} \"*value)"
      ],
      "id": "c4fcf027",
      "execution_count": null,
      "outputs": []
    },
    {
      "cell_type": "code",
      "metadata": {
        "id": "181fe773"
      },
      "source": [
        "all_text = \"\".join([f\"{key}\\n\"*value for key, value in top200.items()])"
      ],
      "id": "181fe773",
      "execution_count": null,
      "outputs": []
    },
    {
      "cell_type": "code",
      "metadata": {
        "id": "eca0e0c3"
      },
      "source": [
        "def grayscale_cmap(cmap):\n",
        "    \"\"\"Return a grayscale version of the given colormap\"\"\"\n",
        "    cmap = plt.cm.get_cmap(cmap)\n",
        "    colors = cmap(np.arange(cmap.N))\n",
        "    \n",
        "    # convert RGBA to perceived grayscale luminance\n",
        "    # cf. http://alienryderflex.com/hsp.html\n",
        "    RGB_weight = [0.299, 0.587, 0.114]\n",
        "    luminance = np.sqrt(np.dot(colors[:, :3] ** 2, RGB_weight))\n",
        "    colors[:, :3] = luminance[:, np.newaxis]\n",
        "        \n",
        "    return LinearSegmentedColormap.from_list(cmap.name + \"_gray\", colors, cmap.N)"
      ],
      "id": "eca0e0c3",
      "execution_count": null,
      "outputs": []
    },
    {
      "cell_type": "code",
      "metadata": {
        "id": "c8eb5f82"
      },
      "source": [
        "mask = np.array(Image.open('nlp2.png'))"
      ],
      "id": "c8eb5f82",
      "execution_count": null,
      "outputs": []
    },
    {
      "cell_type": "code",
      "metadata": {
        "id": "d9de57b9"
      },
      "source": [
        "final_wordcloud = WordCloud(\n",
        "                            width=1600, height=1000,\n",
        "                            mode=\"RGBA\",\n",
        "                            mask=mask,\n",
        "                            background_color=None,\n",
        "                            colormap=grayscale_cmap(\"copper\"),\n",
        "                            stopwords=sp_stopwords,\n",
        "                            collocations=False,\n",
        "                            min_font_size = 10).generate(all_text)"
      ],
      "id": "d9de57b9",
      "execution_count": null,
      "outputs": []
    },
    {
      "cell_type": "code",
      "metadata": {
        "id": "d93755dd"
      },
      "source": [
        "plt.figure(figsize = (30, 30), facecolor = None)\n",
        "plt.imshow(final_wordcloud)\n",
        "plt.axis(\"off\")\n",
        "plt.show()"
      ],
      "id": "d93755dd",
      "execution_count": null,
      "outputs": []
    }
  ]
}